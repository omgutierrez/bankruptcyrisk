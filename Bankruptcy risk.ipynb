{
 "cells": [
  {
   "cell_type": "code",
   "execution_count": 184,
   "metadata": {},
   "outputs": [],
   "source": [
    "import pandas_datareader as web\n",
    "import pandas as pd\n",
    "import numpy as np\n",
    "import matplotlib.pyplot as plt\n"
   ]
  },
  {
   "cell_type": "code",
   "execution_count": 185,
   "metadata": {},
   "outputs": [],
   "source": [
    "'pip install yahoofinancials'\n",
    "from yahoofinancials import YahooFinancials"
   ]
  },
  {
   "cell_type": "code",
   "execution_count": 204,
   "metadata": {},
   "outputs": [],
   "source": [
    "# type the ticker of the public equity you want to analyze\n",
    "ticker = 'CHKP'"
   ]
  },
  {
   "cell_type": "code",
   "execution_count": 205,
   "metadata": {},
   "outputs": [],
   "source": [
    "yahoo_financials = YahooFinancials(ticker)\n",
    "balance_sheet_data = yahoo_financials.get_financial_stmts('annual', 'balance')"
   ]
  },
  {
   "cell_type": "code",
   "execution_count": 206,
   "metadata": {},
   "outputs": [],
   "source": [
    "dataframe_entries = list()\n",
    "for result in balance_sheet_data.get('balanceSheetHistory').get(ticker):\n",
    "    extracted_date = list(result)[0]\n",
    "    dataframe_row = list(result.values())[0]\n",
    "    dataframe_row['date'] = extracted_date\n",
    "    dataframe_entries.append(dataframe_row)\n",
    "\n",
    "df_bs = pd.DataFrame(dataframe_entries).set_index('date')"
   ]
  },
  {
   "cell_type": "code",
   "execution_count": 207,
   "metadata": {},
   "outputs": [],
   "source": [
    "income_statement_data = yahoo_financials.get_financial_stmts('annual', 'income')\n",
    "dataframe_entries1 = list()\n",
    "for result1 in income_statement_data.get('incomeStatementHistory').get(ticker):\n",
    "    extracted_date1 = list(result1)[0]\n",
    "    dataframe_row1 = list(result1.values())[0]\n",
    "    dataframe_row1['date'] = extracted_date1\n",
    "    dataframe_entries1.append(dataframe_row1)\n",
    "\n",
    "df_is = pd.DataFrame(dataframe_entries1).set_index('date')"
   ]
  },
  {
   "cell_type": "code",
   "execution_count": 208,
   "metadata": {},
   "outputs": [],
   "source": [
    "altman_df = df_bs.join(df_is, on=df_is.index)\n",
    "altman_df['mktcap'] = df_mktcap[0]"
   ]
  },
  {
   "cell_type": "code",
   "execution_count": 209,
   "metadata": {},
   "outputs": [],
   "source": [
    "altman_df['Z_score'] = (1.2*(altman_df.totalCurrentAssets - altman_df.totalCurrentLiabilities)/altman_df.totalAssets) + (\n",
    "                        2.4*altman_df.retainedEarnings/altman_df.totalAssets) + (\n",
    "                        3.3*altman_df.ebit/altman_df.totalAssets) + (\n",
    "                        0.6*altman_df.mktcap/altman_df.totalLiab) + (\n",
    "                        0.999*altman_df.totalRevenue/altman_df.totalAssets)"
   ]
  },
  {
   "cell_type": "code",
   "execution_count": 210,
   "metadata": {},
   "outputs": [
    {
     "data": {
      "text/html": [
       "<div>\n",
       "<style scoped>\n",
       "    .dataframe tbody tr th:only-of-type {\n",
       "        vertical-align: middle;\n",
       "    }\n",
       "\n",
       "    .dataframe tbody tr th {\n",
       "        vertical-align: top;\n",
       "    }\n",
       "\n",
       "    .dataframe thead th {\n",
       "        text-align: right;\n",
       "    }\n",
       "</style>\n",
       "<table border=\"1\" class=\"dataframe\">\n",
       "  <thead>\n",
       "    <tr style=\"text-align: right;\">\n",
       "      <th></th>\n",
       "      <th>intangibleAssets</th>\n",
       "      <th>capitalSurplus</th>\n",
       "      <th>totalLiab</th>\n",
       "      <th>totalStockholderEquity</th>\n",
       "      <th>otherCurrentLiab</th>\n",
       "      <th>totalAssets</th>\n",
       "      <th>commonStock</th>\n",
       "      <th>retainedEarnings</th>\n",
       "      <th>otherLiab</th>\n",
       "      <th>treasuryStock</th>\n",
       "      <th>...</th>\n",
       "      <th>incomeTaxExpense</th>\n",
       "      <th>totalRevenue</th>\n",
       "      <th>totalOperatingExpenses</th>\n",
       "      <th>costOfRevenue</th>\n",
       "      <th>totalOtherIncomeExpenseNet</th>\n",
       "      <th>discontinuedOperations</th>\n",
       "      <th>netIncomeFromContinuingOps</th>\n",
       "      <th>netIncomeApplicableToCommonShares</th>\n",
       "      <th>mktcap</th>\n",
       "      <th>Z_score</th>\n",
       "    </tr>\n",
       "    <tr>\n",
       "      <th>date</th>\n",
       "      <th></th>\n",
       "      <th></th>\n",
       "      <th></th>\n",
       "      <th></th>\n",
       "      <th></th>\n",
       "      <th></th>\n",
       "      <th></th>\n",
       "      <th></th>\n",
       "      <th></th>\n",
       "      <th></th>\n",
       "      <th></th>\n",
       "      <th></th>\n",
       "      <th></th>\n",
       "      <th></th>\n",
       "      <th></th>\n",
       "      <th></th>\n",
       "      <th></th>\n",
       "      <th></th>\n",
       "      <th></th>\n",
       "      <th></th>\n",
       "      <th></th>\n",
       "    </tr>\n",
       "  </thead>\n",
       "  <tbody>\n",
       "    <tr>\n",
       "      <th>2020-12-31</th>\n",
       "      <td>1040700000</td>\n",
       "      <td>2028400000</td>\n",
       "      <td>2373000000</td>\n",
       "      <td>3466200000</td>\n",
       "      <td>1108600000</td>\n",
       "      <td>5839200000</td>\n",
       "      <td>800000</td>\n",
       "      <td>10715300000</td>\n",
       "      <td>829200000</td>\n",
       "      <td>-9278300000</td>\n",
       "      <td>...</td>\n",
       "      <td>124200000</td>\n",
       "      <td>2064900000</td>\n",
       "      <td>1160700000</td>\n",
       "      <td>219900000</td>\n",
       "      <td>66600000</td>\n",
       "      <td>None</td>\n",
       "      <td>846600000</td>\n",
       "      <td>846600000</td>\n",
       "      <td>8224897536</td>\n",
       "      <td>7.499057</td>\n",
       "    </tr>\n",
       "    <tr>\n",
       "      <th>2019-12-31</th>\n",
       "      <td>42800000</td>\n",
       "      <td>1770300000</td>\n",
       "      <td>2196100000</td>\n",
       "      <td>3568800000</td>\n",
       "      <td>1011900000</td>\n",
       "      <td>5764900000</td>\n",
       "      <td>800000</td>\n",
       "      <td>9868700000</td>\n",
       "      <td>770200000</td>\n",
       "      <td>-8071000000</td>\n",
       "      <td>...</td>\n",
       "      <td>136700000</td>\n",
       "      <td>1994800000</td>\n",
       "      <td>1113000000</td>\n",
       "      <td>209800000</td>\n",
       "      <td>80600000</td>\n",
       "      <td>None</td>\n",
       "      <td>825700000</td>\n",
       "      <td>825700000</td>\n",
       "      <td>8224897536</td>\n",
       "      <td>7.359564</td>\n",
       "    </tr>\n",
       "    <tr>\n",
       "      <th>2018-12-31</th>\n",
       "      <td>41000000</td>\n",
       "      <td>1597800000</td>\n",
       "      <td>2055800000</td>\n",
       "      <td>3772400000</td>\n",
       "      <td>980200000</td>\n",
       "      <td>5828200000</td>\n",
       "      <td>800000</td>\n",
       "      <td>9043000000</td>\n",
       "      <td>723900000</td>\n",
       "      <td>-6869200000</td>\n",
       "      <td>...</td>\n",
       "      <td>157600000</td>\n",
       "      <td>1916500000</td>\n",
       "      <td>1002700000</td>\n",
       "      <td>198600000</td>\n",
       "      <td>65100000</td>\n",
       "      <td>None</td>\n",
       "      <td>821300000</td>\n",
       "      <td>821300000</td>\n",
       "      <td>8224897536</td>\n",
       "      <td>7.174066</td>\n",
       "    </tr>\n",
       "    <tr>\n",
       "      <th>2017-12-31</th>\n",
       "      <td>18395000</td>\n",
       "      <td>1305130000</td>\n",
       "      <td>1862803000</td>\n",
       "      <td>3600123000</td>\n",
       "      <td>878287000</td>\n",
       "      <td>5462926000</td>\n",
       "      <td>774000</td>\n",
       "      <td>8203035000</td>\n",
       "      <td>655878000</td>\n",
       "      <td>-5908816000</td>\n",
       "      <td>...</td>\n",
       "      <td>168000000</td>\n",
       "      <td>1854700000</td>\n",
       "      <td>930800000</td>\n",
       "      <td>210800000</td>\n",
       "      <td>47000000</td>\n",
       "      <td>None</td>\n",
       "      <td>802900000</td>\n",
       "      <td>802900000</td>\n",
       "      <td>8224897536</td>\n",
       "      <td>7.316664</td>\n",
       "    </tr>\n",
       "  </tbody>\n",
       "</table>\n",
       "<p>4 rows × 48 columns</p>\n",
       "</div>"
      ],
      "text/plain": [
       "            intangibleAssets  capitalSurplus   totalLiab  \\\n",
       "date                                                       \n",
       "2020-12-31        1040700000      2028400000  2373000000   \n",
       "2019-12-31          42800000      1770300000  2196100000   \n",
       "2018-12-31          41000000      1597800000  2055800000   \n",
       "2017-12-31          18395000      1305130000  1862803000   \n",
       "\n",
       "            totalStockholderEquity  otherCurrentLiab  totalAssets  \\\n",
       "date                                                                \n",
       "2020-12-31              3466200000        1108600000   5839200000   \n",
       "2019-12-31              3568800000        1011900000   5764900000   \n",
       "2018-12-31              3772400000         980200000   5828200000   \n",
       "2017-12-31              3600123000         878287000   5462926000   \n",
       "\n",
       "            commonStock  retainedEarnings  otherLiab  treasuryStock  ...  \\\n",
       "date                                                                 ...   \n",
       "2020-12-31       800000       10715300000  829200000    -9278300000  ...   \n",
       "2019-12-31       800000        9868700000  770200000    -8071000000  ...   \n",
       "2018-12-31       800000        9043000000  723900000    -6869200000  ...   \n",
       "2017-12-31       774000        8203035000  655878000    -5908816000  ...   \n",
       "\n",
       "            incomeTaxExpense  totalRevenue  totalOperatingExpenses  \\\n",
       "date                                                                 \n",
       "2020-12-31         124200000    2064900000              1160700000   \n",
       "2019-12-31         136700000    1994800000              1113000000   \n",
       "2018-12-31         157600000    1916500000              1002700000   \n",
       "2017-12-31         168000000    1854700000               930800000   \n",
       "\n",
       "            costOfRevenue  totalOtherIncomeExpenseNet  discontinuedOperations  \\\n",
       "date                                                                            \n",
       "2020-12-31      219900000                    66600000                    None   \n",
       "2019-12-31      209800000                    80600000                    None   \n",
       "2018-12-31      198600000                    65100000                    None   \n",
       "2017-12-31      210800000                    47000000                    None   \n",
       "\n",
       "            netIncomeFromContinuingOps  netIncomeApplicableToCommonShares  \\\n",
       "date                                                                        \n",
       "2020-12-31                   846600000                          846600000   \n",
       "2019-12-31                   825700000                          825700000   \n",
       "2018-12-31                   821300000                          821300000   \n",
       "2017-12-31                   802900000                          802900000   \n",
       "\n",
       "                mktcap   Z_score  \n",
       "date                              \n",
       "2020-12-31  8224897536  7.499057  \n",
       "2019-12-31  8224897536  7.359564  \n",
       "2018-12-31  8224897536  7.174066  \n",
       "2017-12-31  8224897536  7.316664  \n",
       "\n",
       "[4 rows x 48 columns]"
      ]
     },
     "execution_count": 210,
     "metadata": {},
     "output_type": "execute_result"
    }
   ],
   "source": [
    "altman_df"
   ]
  },
  {
   "cell_type": "code",
   "execution_count": 211,
   "metadata": {},
   "outputs": [
    {
     "name": "stderr",
     "output_type": "stream",
     "text": [
      "/Users/omgc/opt/anaconda3/lib/python3.7/site-packages/ipykernel_launcher.py:6: MatplotlibDeprecationWarning: Adding an axes using the same arguments as a previous axes currently reuses the earlier instance.  In a future version, a new instance will always be created and returned.  Meanwhile, this warning can be suppressed, and the future behavior ensured, by passing a unique label to each axes instance.\n",
      "  \n"
     ]
    },
    {
     "data": {
      "text/plain": [
       "<matplotlib.patches.Polygon at 0x7f9609533f50>"
      ]
     },
     "execution_count": 211,
     "metadata": {},
     "output_type": "execute_result"
    },
    {
     "data": {
      "image/png": "[encoded data removed]",
      "text/plain": [
       "<Figure size 432x288 with 1 Axes>"
      ]
     },
     "metadata": {
      "needs_background": "light"
     },
     "output_type": "display_data"
    }
   ],
   "source": [
    "altman_df.sort_index(ascending=True)['Z_score'].plot(linewidth=3)\n",
    "plt.hlines(3, xmin=0, xmax=len(altman_df.Z_score)-1)\n",
    "plt.hlines(1.8, xmin=0, xmax=len(altman_df.Z_score)-1)\n",
    "plt.hlines(0, xmin=0, xmax=len(altman_df.Z_score)-1)\n",
    "\n",
    "ax = plt.subplot()\n",
    "ax.axhspan(0,1.8,facecolor='red', alpha = 0.5)\n",
    "ax.axhspan(1.8,3,facecolor='gray', alpha = 0.5)\n",
    "ax.axhspan(3,10,facecolor='green', alpha = 0.5)"
   ]
  },
  {
   "cell_type": "code",
   "execution_count": null,
   "metadata": {},
   "outputs": [],
   "source": []
  }
 ],
 "metadata": {
  "kernelspec": {
   "display_name": "Python 3",
   "language": "python",
   "name": "python3"
  },
  "language_info": {
   "codemirror_mode": {
    "name": "ipython",
    "version": 3
   },
   "file_extension": ".py",
   "mimetype": "text/x-python",
   "name": "python",
   "nbconvert_exporter": "python",
   "pygments_lexer": "ipython3",
   "version": "3.7.7"
  }
 },
 "nbformat": 4,
 "nbformat_minor": 4
}
